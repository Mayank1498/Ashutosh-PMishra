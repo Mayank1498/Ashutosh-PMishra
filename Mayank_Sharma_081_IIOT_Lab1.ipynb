{
  "nbformat": 4,
  "nbformat_minor": 0,
  "metadata": {
    "colab": {
      "provenance": [],
      "mount_file_id": "1HNgAgC30h-CaSO_9c5cm3G3-P78G1Svd",
      "authorship_tag": "ABX9TyMId3Btcr4V1aUR2qDgZJp1",
      "include_colab_link": true
    },
    "kernelspec": {
      "name": "python3",
      "display_name": "Python 3"
    },
    "language_info": {
      "name": "python"
    }
  },
  "cells": [
    {
      "cell_type": "markdown",
      "metadata": {
        "id": "view-in-github",
        "colab_type": "text"
      },
      "source": [
        "<a href=\"https://colab.research.google.com/github/Mayank1498/Ashutosh-PMishra/blob/main/Mayank_Sharma_081_IIOT_Lab1.ipynb\" target=\"_parent\"><img src=\"https://colab.research.google.com/assets/colab-badge.svg\" alt=\"Open In Colab\"/></a>"
      ]
    },
    {
      "cell_type": "code",
      "execution_count": 1,
      "metadata": {
        "colab": {
          "base_uri": "https://localhost:8080/",
          "height": 0
        },
        "id": "ZjnYoUyp6r2g",
        "outputId": "d7828795-3d9f-421c-a165-34ce7947d753"
      },
      "outputs": [
        {
          "output_type": "stream",
          "name": "stdout",
          "text": [
            "[1 2 3 4 5 6 7]\n",
            "(7,)\n",
            "int64\n"
          ]
        }
      ],
      "source": [
        "import numpy as np\n",
        "x=np.array([1,2,3,4,5,6,7])\n",
        "print(x)\n",
        "print(x.shape)\n",
        "print(x.dtype)"
      ]
    },
    {
      "cell_type": "code",
      "source": [
        "x=np.array([[1,2,3],[3,4,5],[5,6,7],[7,8,9]])\n",
        "x.shape\n",
        "x[3,2]\n",
        "x[3,:]\n",
        "x[:,1]\n",
        "x[1:3,1:3]"
      ],
      "metadata": {
        "colab": {
          "base_uri": "https://localhost:8080/",
          "height": 0
        },
        "id": "rkaJeH6P7okB",
        "outputId": "6d3ec151-2a65-4dff-a34c-4f7e1b6fce49"
      },
      "execution_count": 2,
      "outputs": [
        {
          "output_type": "execute_result",
          "data": {
            "text/plain": [
              "array([[4, 5],\n",
              "       [6, 7]])"
            ]
          },
          "metadata": {},
          "execution_count": 2
        }
      ]
    },
    {
      "cell_type": "code",
      "source": [
        "x=np.arange(1,10,.5)\n",
        "x=np.arange(10,1,-3.3)\n",
        "x\n",
        "x=np.linspace(0,10,5)\n",
        "x"
      ],
      "metadata": {
        "colab": {
          "base_uri": "https://localhost:8080/",
          "height": 0
        },
        "id": "44BN7GYb80yB",
        "outputId": "3f048897-ae00-432b-b33e-f491e14f9793"
      },
      "execution_count": 3,
      "outputs": [
        {
          "output_type": "execute_result",
          "data": {
            "text/plain": [
              "array([ 0. ,  2.5,  5. ,  7.5, 10. ])"
            ]
          },
          "metadata": {},
          "execution_count": 3
        }
      ]
    },
    {
      "cell_type": "code",
      "source": [
        "x=np.array([[1,2,3],[3,4,5],[5,6,7],[7,8,9]])\n",
        "x.shape\n",
        "x=np.expand_dims(x,axis=1)\n",
        "print(x.shape)\n",
        "x1=np.squeeze(x,axis=1)\n",
        "print(x1.shape)\n",
        "x2=x1.flatten()\n",
        "print(x2)"
      ],
      "metadata": {
        "colab": {
          "base_uri": "https://localhost:8080/",
          "height": 0
        },
        "id": "mYFdOtQJ83Kl",
        "outputId": "514bfca4-d7ce-4fb8-e420-ef1c72b6c00c"
      },
      "execution_count": 4,
      "outputs": [
        {
          "output_type": "stream",
          "name": "stdout",
          "text": [
            "(4, 1, 3)\n",
            "(4, 3)\n",
            "[1 2 3 3 4 5 5 6 7 7 8 9]\n"
          ]
        }
      ]
    },
    {
      "cell_type": "code",
      "source": [
        "x=np.array([[1,2,3],[3,4,5],[5,6,7],[7,8,9]])\n",
        "print(x.shape)\n",
        "x1=np.reshape(x,(6,2))\n",
        "print(x1.shape)\n",
        "x1=np.resize(x,(9,20))\n",
        "print(x1.shape)\n",
        "print(x1)"
      ],
      "metadata": {
        "colab": {
          "base_uri": "https://localhost:8080/",
          "height": 0
        },
        "id": "VaYHzieH8-ey",
        "outputId": "6ee4fc54-ad59-45fe-ca85-fa338f681d21"
      },
      "execution_count": 5,
      "outputs": [
        {
          "output_type": "stream",
          "name": "stdout",
          "text": [
            "(4, 3)\n",
            "(6, 2)\n",
            "(9, 20)\n",
            "[[1 2 3 3 4 5 5 6 7 7 8 9 1 2 3 3 4 5 5 6]\n",
            " [7 7 8 9 1 2 3 3 4 5 5 6 7 7 8 9 1 2 3 3]\n",
            " [4 5 5 6 7 7 8 9 1 2 3 3 4 5 5 6 7 7 8 9]\n",
            " [1 2 3 3 4 5 5 6 7 7 8 9 1 2 3 3 4 5 5 6]\n",
            " [7 7 8 9 1 2 3 3 4 5 5 6 7 7 8 9 1 2 3 3]\n",
            " [4 5 5 6 7 7 8 9 1 2 3 3 4 5 5 6 7 7 8 9]\n",
            " [1 2 3 3 4 5 5 6 7 7 8 9 1 2 3 3 4 5 5 6]\n",
            " [7 7 8 9 1 2 3 3 4 5 5 6 7 7 8 9 1 2 3 3]\n",
            " [4 5 5 6 7 7 8 9 1 2 3 3 4 5 5 6 7 7 8 9]]\n"
          ]
        }
      ]
    },
    {
      "cell_type": "code",
      "source": [
        "########### RANDOM NUMBER\n",
        "a=np.random.random()\n",
        "print(a)\n",
        "b=np.random.random((3,4))\n",
        "print(b)\n",
        "c=np.random.randint(0,100)\n",
        "print(c)\n",
        "d=np.random.randint(0,100,(3,4))\n",
        "print(d)"
      ],
      "metadata": {
        "colab": {
          "base_uri": "https://localhost:8080/",
          "height": 0
        },
        "id": "aiz6tCPz9MHp",
        "outputId": "52c7d957-71e1-4cca-ddbc-099e8f9d42c2"
      },
      "execution_count": 7,
      "outputs": [
        {
          "output_type": "stream",
          "name": "stdout",
          "text": [
            "0.13047956293063157\n",
            "[[0.16519562 0.31396456 0.16063702 0.63903173]\n",
            " [0.70217843 0.93140083 0.25224443 0.49295317]\n",
            " [0.55896894 0.22253166 0.73263288 0.11786521]]\n",
            "6\n",
            "[[52  2 15 84]\n",
            " [ 2 38 88 73]\n",
            " [35  4 82 56]]\n"
          ]
        }
      ]
    },
    {
      "cell_type": "code",
      "source": [
        "np.random.choice([1,2,3,4,5,6])\n",
        "np.random.shuffle([1,2,3,4,5])\n",
        "#np.random.seed(4)\n",
        "x=np.random.randint(1,100)\n",
        "x"
      ],
      "metadata": {
        "colab": {
          "base_uri": "https://localhost:8080/",
          "height": 0
        },
        "id": "x3ywX9-ccru8",
        "outputId": "d1a498bc-f12a-4510-b834-f3ef35c3001b"
      },
      "execution_count": 8,
      "outputs": [
        {
          "output_type": "execute_result",
          "data": {
            "text/plain": [
              "68"
            ]
          },
          "metadata": {},
          "execution_count": 8
        }
      ]
    },
    {
      "cell_type": "code",
      "source": [
        "a=np.random.randint(0,100,(3,10))\n",
        "print(a)\n",
        "print(np.argmax(a))\n",
        "print(np.argmax(a,axis=0)) # column wise\n",
        "print(np.argmax(a,axis=1)) # row wise"
      ],
      "metadata": {
        "colab": {
          "base_uri": "https://localhost:8080/",
          "height": 0
        },
        "id": "_wbAhrW8c-Am",
        "outputId": "54050807-b730-457e-9a8d-3a414fbb50c0"
      },
      "execution_count": 9,
      "outputs": [
        {
          "output_type": "stream",
          "name": "stdout",
          "text": [
            "[[97 12 82 81 53  4 15 64 64  0]\n",
            " [22 92 40 54 16 54 90 81 24 61]\n",
            " [63 21 77 68  6 85 93 68 18 25]]\n",
            "0\n",
            "[0 1 0 0 0 2 2 1 0 1]\n",
            "[0 1 6]\n"
          ]
        }
      ]
    },
    {
      "cell_type": "code",
      "source": [
        "np.exp(1)\n",
        "np.sqrt(2)\n",
        "np.std([1,2,3,4,5,6])\n",
        "np.mean([1,2,3,4,5,6])\n",
        "np.median([4,5,6,7,8,9])\n",
        "np.mean([[3,4,5,6],[4,5,6,8]],axis=1)"
      ],
      "metadata": {
        "colab": {
          "base_uri": "https://localhost:8080/",
          "height": 0
        },
        "id": "PLQ5OgbAdCHI",
        "outputId": "d56f0854-b707-40d2-eb6e-9c0819a70956"
      },
      "execution_count": 10,
      "outputs": [
        {
          "output_type": "execute_result",
          "data": {
            "text/plain": [
              "array([4.5 , 5.75])"
            ]
          },
          "metadata": {},
          "execution_count": 10
        }
      ]
    },
    {
      "cell_type": "code",
      "source": [
        "a=np.random.randint(0,100,(3,3))\n",
        "b=np.random.randint(0,10,(3,3))\n",
        "print(a+b)\n",
        "print(a-b)\n",
        "print(a*b) # element wise multiplication\n",
        "print(np.dot(a,b))\n",
        "print(a.dot(b))\n",
        "print(a/b)\n",
        "print(a%2)\n",
        "print(a**2)\n",
        "print(a.T)"
      ],
      "metadata": {
        "colab": {
          "base_uri": "https://localhost:8080/",
          "height": 0
        },
        "id": "mKJ_s-NmdIFD",
        "outputId": "c7f69a16-a5b8-4a2d-e42d-502e963031b5"
      },
      "execution_count": 11,
      "outputs": [
        {
          "output_type": "stream",
          "name": "stdout",
          "text": [
            "[[ 90  42  30]\n",
            " [ 84  11 104]\n",
            " [ 84  88  20]]\n",
            "[[72 28 20]\n",
            " [66  3 92]\n",
            " [68 88  6]]\n",
            "[[729 245 125]\n",
            " [675  28 588]\n",
            " [608   0  91]]\n",
            "[[1244  707  790]\n",
            " [1522  553 1103]\n",
            " [1580  884  999]]\n",
            "[[1244  707  790]\n",
            " [1522  553 1103]\n",
            " [1580  884  999]]\n",
            "[[ 9.          5.          5.        ]\n",
            " [ 8.33333333  1.75       16.33333333]\n",
            " [ 9.5                inf  1.85714286]]\n",
            "[[1 1 1]\n",
            " [1 1 0]\n",
            " [0 0 1]]\n",
            "[[6561 1225  625]\n",
            " [5625   49 9604]\n",
            " [5776 7744  169]]\n",
            "[[81 75 76]\n",
            " [35  7 88]\n",
            " [25 98 13]]\n"
          ]
        },
        {
          "output_type": "stream",
          "name": "stderr",
          "text": [
            "<ipython-input-11-18da2cac46cc>:8: RuntimeWarning: divide by zero encountered in divide\n",
            "  print(a/b)\n"
          ]
        }
      ]
    }
  ]
}